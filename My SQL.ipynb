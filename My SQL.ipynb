{
 "cells": [
  {
   "cell_type": "code",
   "execution_count": 1,
   "id": "af2ea916-2a73-43d2-86ea-5319b740ef78",
   "metadata": {},
   "outputs": [
    {
     "data": {
      "text/plain": [
       "'QTS.1\\nA database is an organized collection of structured information, or data, typically stored \\nelectronically in a computer system. A database is usually controlled by a database management \\nsystem (DBMS).\\n\\nWhat is the difference between SQL and NoSQL databases?\\n1.SQL databases are relational, and NoSQL databases are non-relational.\\n2.SQL databases use structured query language (SQL) and have a predefined schema.\\n  NoSQL databases have dynamic schemas for unstructured data.\\n3.SQL databases are vertically scalable, while NoSQL databases are horizontally scalable.12-Jan-2023'"
      ]
     },
     "execution_count": 1,
     "metadata": {},
     "output_type": "execute_result"
    }
   ],
   "source": [
    "\"\"\"QTS.1\n",
    "A database is an organized collection of structured information, or data, typically stored \n",
    "electronically in a computer system. A database is usually controlled by a database management \n",
    "system (DBMS).\n",
    "\n",
    "What is the difference between SQL and NoSQL databases?\n",
    "1.SQL databases are relational, and NoSQL databases are non-relational.\n",
    "2.SQL databases use structured query language (SQL) and have a predefined schema.\n",
    "  NoSQL databases have dynamic schemas for unstructured data.\n",
    "3.SQL databases are vertically scalable, while NoSQL databases are horizontally scalable.12-Jan-2023\"\"\""
   ]
  },
  {
   "cell_type": "code",
   "execution_count": 2,
   "id": "f5910b16-32f7-45f2-982b-48c8538dbc9e",
   "metadata": {},
   "outputs": [
    {
     "data": {
      "text/plain": [
       "'QTS.2\\nData Definition Language (DDL) is a subset of SQL. It is a language for describing data\\nand its relationships in a database.\\n\\n1.The ALTER TABLE statement is used to add, delete, or modify columns in an existing table.\\n2.The CREATE PROCEDURE command is used to create a stored procedure.a stored procedure is a\\nprepared SQL code that you can save, so the code can be reused over and over again.\\n3.In SQL, the DROP command is used to remove the whole database or table indexes, data, and more. \\nWhereas the TRUNCATE command is used to remove all the rows from the table.'"
      ]
     },
     "execution_count": 2,
     "metadata": {},
     "output_type": "execute_result"
    }
   ],
   "source": [
    "\"\"\"QTS.2\n",
    "Data Definition Language (DDL) is a subset of SQL. It is a language for describing data\n",
    "and its relationships in a database.\n",
    "\n",
    "1.The ALTER TABLE statement is used to add, delete, or modify columns in an existing table.\n",
    "2.The CREATE PROCEDURE command is used to create a stored procedure.a stored procedure is a\n",
    "prepared SQL code that you can save, so the code can be reused over and over again.\n",
    "3.In SQL, the DROP command is used to remove the whole database or table indexes, data, and more. \n",
    "Whereas the TRUNCATE command is used to remove all the rows from the table.\"\"\""
   ]
  },
  {
   "cell_type": "code",
   "execution_count": 3,
   "id": "53459b68-c641-4c0a-a3c1-08501eecde44",
   "metadata": {},
   "outputs": [
    {
     "data": {
      "text/plain": [
       "\"QTS.3\\n\\nA DML (data manipulation language) refers to a computer programming language that\\nallows you to add (insert), delete (delete), and alter (update) data in a database.\\na DML is typically a sublanguage of a larger database language like SQL, with the DML\\ncontaining some of the language's operators.\\n\\n1.INSERT. Insert command is used to insert data into a table. ...\\n2.DELETE. Delete command is used to delete records from a database table. ...\\n3.UPDATE. Update command is used to update existing data within a table.\""
      ]
     },
     "execution_count": 3,
     "metadata": {},
     "output_type": "execute_result"
    }
   ],
   "source": [
    "\"\"\"QTS.3\n",
    "\n",
    "A DML (data manipulation language) refers to a computer programming language that\n",
    "allows you to add (insert), delete (delete), and alter (update) data in a database.\n",
    "a DML is typically a sublanguage of a larger database language like SQL, with the DML\n",
    "containing some of the language's operators.\n",
    "\n",
    "1.INSERT. Insert command is used to insert data into a table. ...\n",
    "2.DELETE. Delete command is used to delete records from a database table. ...\n",
    "3.UPDATE. Update command is used to update existing data within a table.\"\"\""
   ]
  },
  {
   "cell_type": "code",
   "execution_count": 4,
   "id": "239f5c75-534d-4291-8f21-11f21a9cffdf",
   "metadata": {},
   "outputs": [
    {
     "data": {
      "text/plain": [
       "'QTS.4\\n\\nDQL is a portion of a SQL statement that allows you to get and organise data from a database.\\nYou can use the SELECT command to extract data from a database in order to perform actions on it.'"
      ]
     },
     "execution_count": 4,
     "metadata": {},
     "output_type": "execute_result"
    }
   ],
   "source": [
    "\"\"\"QTS.4\n",
    "\n",
    "DQL is a portion of a SQL statement that allows you to get and organise data from a database.\n",
    "You can use the SELECT command to extract data from a database in order to perform actions on it.\"\"\""
   ]
  },
  {
   "cell_type": "code",
   "execution_count": 5,
   "id": "6fa45c11-79cb-4818-a34c-21c3f74cce6c",
   "metadata": {},
   "outputs": [
    {
     "data": {
      "text/plain": [
       "'QTS.5\\n\\nA primary key generally focuses on the uniqueness of the table. It assures the value \\nin the specific column is unique. A foreign key is generally used to build a relationship \\nbetween the two tables. The table allows only one primary key.'"
      ]
     },
     "execution_count": 5,
     "metadata": {},
     "output_type": "execute_result"
    }
   ],
   "source": [
    "\"\"\"QTS.5\n",
    "\n",
    "A primary key generally focuses on the uniqueness of the table. It assures the value \n",
    "in the specific column is unique. A foreign key is generally used to build a relationship \n",
    "between the two tables. The table allows only one primary key.\"\"\""
   ]
  },
  {
   "cell_type": "code",
   "execution_count": 6,
   "id": "0d0fa5d3-82fb-4b57-88eb-f46cb298d1cd",
   "metadata": {},
   "outputs": [
    {
     "data": {
      "text/plain": [
       "'QTS.6\\n\\n1.cursor()-It is an object that is used to make the connection for executing SQL queries.\\nIt acts as middleware between SQLite database connection and SQL query\\n\\n2.execute()-execute() to execute Python SQL queries on your PostgreSQL database. \\nYou can use this function to create tables, insert records, modify records, and \\ndelete records in your PostgreSQL database.'"
      ]
     },
     "execution_count": 6,
     "metadata": {},
     "output_type": "execute_result"
    }
   ],
   "source": [
    "\"\"\"QTS.6\n",
    "\n",
    "1.cursor()-It is an object that is used to make the connection for executing SQL queries.\n",
    "It acts as middleware between SQLite database connection and SQL query\n",
    "\n",
    "2.execute()-execute() to execute Python SQL queries on your PostgreSQL database. \n",
    "You can use this function to create tables, insert records, modify records, and \n",
    "delete records in your PostgreSQL database.\"\"\"\n",
    "\n",
    "\"\"\"to connect sql with python,below code is common in every system\"\"\"\n",
    "import mysql.connector\n",
    "# import mysql.connector\n",
    "#create user 'user'@'%' identified by 'password'\n",
    "mydb = mysql.connector.connect(\n",
    "  host=\"localhost\",\n",
    "  user=\"abc\",              ##code is common in every system only host,username,password\n",
    "  password=\"password\"      ## provided by the company to connect local host to the system.\n",
    ")\n",
    "print(mydb)\n",
    "mycursor = mydb.cursor()\n",
    "mycursor.execute(\"SHOW DATABASES\")\n",
    "for x in mycursor:\n",
    "    print(x)"
   ]
  },
  {
   "cell_type": "code",
   "execution_count": 7,
   "id": "befb92bc-c410-4d10-a914-b94a0304e464",
   "metadata": {},
   "outputs": [
    {
     "data": {
      "text/plain": [
       "'QTS.7 \\nHere is the tabl ethat shows the order of execuetion of SQL query:- \\n1\\tFROM\\t-Tables are joined to get the base data.\\n2\\tWHERE\\t-The base data is filtered.\\n3\\tGROUP BY\\t-The filtered base data is grouped.\\n4\\tHAVING\\t-The grouped base data is filtered.\\n5\\tSELECT\\t-The final data is returned.\\n6\\tORDER BY\\t-The final data is sorted.\\n7\\tLIMIT\\t-The returned data is limited to row count.'"
      ]
     },
     "execution_count": 7,
     "metadata": {},
     "output_type": "execute_result"
    }
   ],
   "source": [
    "\"\"\"QTS.7 \n",
    "Here is the tabl ethat shows the order of execuetion of SQL query:- \n",
    "1\tFROM\t-Tables are joined to get the base data.\n",
    "2\tWHERE\t-The base data is filtered.\n",
    "3\tGROUP BY\t-The filtered base data is grouped.\n",
    "4\tHAVING\t-The grouped base data is filtered.\n",
    "5\tSELECT\t-The final data is returned.\n",
    "6\tORDER BY\t-The final data is sorted.\n",
    "7\tLIMIT\t-The returned data is limited to row count.\"\"\""
   ]
  },
  {
   "cell_type": "code",
   "execution_count": null,
   "id": "1dc0991a-c6ae-415c-be31-62cbbfa3bb1e",
   "metadata": {},
   "outputs": [],
   "source": []
  }
 ],
 "metadata": {
  "kernelspec": {
   "display_name": "Python 3 (ipykernel)",
   "language": "python",
   "name": "python3"
  },
  "language_info": {
   "codemirror_mode": {
    "name": "ipython",
    "version": 3
   },
   "file_extension": ".py",
   "mimetype": "text/x-python",
   "name": "python",
   "nbconvert_exporter": "python",
   "pygments_lexer": "ipython3",
   "version": "3.10.8"
  }
 },
 "nbformat": 4,
 "nbformat_minor": 5
}
